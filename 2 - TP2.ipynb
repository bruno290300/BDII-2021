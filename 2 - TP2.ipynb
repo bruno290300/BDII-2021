{
 "cells": [
  {
   "cell_type": "markdown",
   "id": "844a5f2e",
   "metadata": {},
   "source": [
    "# TP2\n",
    "\n",
    "## Valores faltantes"
   ]
  },
  {
   "cell_type": "markdown",
   "id": "588b7f19",
   "metadata": {},
   "source": [
    "# Ejercicio 1\n",
    "\n",
    "- Leer y obtener el siguiente dataset sobre <a href=\"https://archive.ics.uci.edu/ml/datasets/Sponge\">esponjas</a>\n",
    "- Analizar la naturaleza y distribución de los datos faltantes\n",
    "- Selecccionar e implementar el mejor método para tratar los datos faltantes\n",
    "- Justificar la elección\n"
   ]
  },
  {
   "cell_type": "code",
   "execution_count": null,
   "id": "0df3a673",
   "metadata": {},
   "outputs": [],
   "source": []
  },
  {
   "cell_type": "markdown",
   "id": "8794ab03",
   "metadata": {},
   "source": [
    "# Ejercicio 2\n",
    "\n",
    "- Leer y obtener el siguiente dataset sobre <a href=\"https://archive.ics.uci.edu/ml/datasets/Echocardiogram\">ecocardiogramas</a>\n",
    "- Analizar la naturaleza y distribución de los datos faltantes\n",
    "- Selecccionar e implementar el mejor método para tratar los datos faltantes\n",
    "- Justificar la elección\n"
   ]
  },
  {
   "cell_type": "markdown",
   "id": "efd0fdcc",
   "metadata": {},
   "source": []
  }
 ],
 "metadata": {
  "kernelspec": {
   "display_name": "Python 3",
   "language": "python",
   "name": "python3"
  },
  "language_info": {
   "codemirror_mode": {
    "name": "ipython",
    "version": 3
   },
   "file_extension": ".py",
   "mimetype": "text/x-python",
   "name": "python",
   "nbconvert_exporter": "python",
   "pygments_lexer": "ipython3",
   "version": "3.7.6"
  }
 },
 "nbformat": 4,
 "nbformat_minor": 5
}
